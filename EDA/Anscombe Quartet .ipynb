{
 "cells": [
  {
   "cell_type": "markdown",
   "metadata": {},
   "source": [
    "# Anscombe's Quartet"
   ]
  },
  {
   "cell_type": "markdown",
   "metadata": {},
   "source": [
    "### Other sources of information in Jupyter\n",
    "\n",
    "**Data Example**\n",
    "- <i>Dataset name</i>: Anscombe's Quartet Database\n",
    "\n",
    "- <i>Description</i>: The dataset is from the famous publication Francis J. Anscombe \"Graphs in Statistical Analysis\", The American Statistician 27 pp. 17-21 (1973) (doi: 10.1080/00031305.1973.10478966). It consists of four data sets of 11 points each. Note the peculiarity that the same 'x' values are used for the first three data sets, and this exactly as in the original publication (originally done to save space), i.e. the first column (x123) serves as the 'x' for the next three 'y' columns; y1, y2 and y3.\n",
    "\n",
    "<u><i> Further Resources <i/> <u/>\n",
    "\n",
    "- [Kaggle Dataset](https://www.kaggle.com/datasets/carlmcbrideellis/data-anscombes-quartet) \n",
    "\n",
    "- [Original Paper](https://www.tandfonline.com/doi/abs/10.1080/00031305.1973.1047896)\n",
    " "
   ]
  },
  {
   "cell_type": "code",
   "execution_count": 4,
   "metadata": {},
   "outputs": [
    {
     "data": {
      "text/html": [
       "<div>\n",
       "<style scoped>\n",
       "    .dataframe tbody tr th:only-of-type {\n",
       "        vertical-align: middle;\n",
       "    }\n",
       "\n",
       "    .dataframe tbody tr th {\n",
       "        vertical-align: top;\n",
       "    }\n",
       "\n",
       "    .dataframe thead th {\n",
       "        text-align: right;\n",
       "    }\n",
       "</style>\n",
       "<table border=\"1\" class=\"dataframe\">\n",
       "  <thead>\n",
       "    <tr style=\"text-align: right;\">\n",
       "      <th></th>\n",
       "      <th>x123</th>\n",
       "      <th>y1</th>\n",
       "      <th>y2</th>\n",
       "      <th>y3</th>\n",
       "      <th>x4</th>\n",
       "      <th>y4</th>\n",
       "    </tr>\n",
       "  </thead>\n",
       "  <tbody>\n",
       "    <tr>\n",
       "      <th>0</th>\n",
       "      <td>10.00</td>\n",
       "      <td>8.04</td>\n",
       "      <td>9.14</td>\n",
       "      <td>7.46</td>\n",
       "      <td>8.00</td>\n",
       "      <td>6.58</td>\n",
       "    </tr>\n",
       "    <tr>\n",
       "      <th>1</th>\n",
       "      <td>8.00</td>\n",
       "      <td>6.95</td>\n",
       "      <td>8.14</td>\n",
       "      <td>6.77</td>\n",
       "      <td>8.00</td>\n",
       "      <td>5.76</td>\n",
       "    </tr>\n",
       "    <tr>\n",
       "      <th>2</th>\n",
       "      <td>13.00</td>\n",
       "      <td>7.58</td>\n",
       "      <td>8.74</td>\n",
       "      <td>12.74</td>\n",
       "      <td>8.00</td>\n",
       "      <td>7.71</td>\n",
       "    </tr>\n",
       "    <tr>\n",
       "      <th>3</th>\n",
       "      <td>9.00</td>\n",
       "      <td>8.81</td>\n",
       "      <td>8.77</td>\n",
       "      <td>7.11</td>\n",
       "      <td>8.00</td>\n",
       "      <td>8.84</td>\n",
       "    </tr>\n",
       "    <tr>\n",
       "      <th>4</th>\n",
       "      <td>11.00</td>\n",
       "      <td>8.33</td>\n",
       "      <td>9.26</td>\n",
       "      <td>7.81</td>\n",
       "      <td>8.00</td>\n",
       "      <td>8.47</td>\n",
       "    </tr>\n",
       "    <tr>\n",
       "      <th>5</th>\n",
       "      <td>14.00</td>\n",
       "      <td>9.96</td>\n",
       "      <td>8.10</td>\n",
       "      <td>8.84</td>\n",
       "      <td>8.00</td>\n",
       "      <td>7.04</td>\n",
       "    </tr>\n",
       "    <tr>\n",
       "      <th>6</th>\n",
       "      <td>6.00</td>\n",
       "      <td>7.24</td>\n",
       "      <td>6.13</td>\n",
       "      <td>6.08</td>\n",
       "      <td>8.00</td>\n",
       "      <td>5.25</td>\n",
       "    </tr>\n",
       "    <tr>\n",
       "      <th>7</th>\n",
       "      <td>4.00</td>\n",
       "      <td>4.26</td>\n",
       "      <td>3.10</td>\n",
       "      <td>5.39</td>\n",
       "      <td>19.00</td>\n",
       "      <td>12.50</td>\n",
       "    </tr>\n",
       "    <tr>\n",
       "      <th>8</th>\n",
       "      <td>12.00</td>\n",
       "      <td>10.84</td>\n",
       "      <td>9.13</td>\n",
       "      <td>8.15</td>\n",
       "      <td>8.00</td>\n",
       "      <td>5.56</td>\n",
       "    </tr>\n",
       "    <tr>\n",
       "      <th>9</th>\n",
       "      <td>7.00</td>\n",
       "      <td>4.82</td>\n",
       "      <td>7.26</td>\n",
       "      <td>6.42</td>\n",
       "      <td>8.00</td>\n",
       "      <td>7.91</td>\n",
       "    </tr>\n",
       "    <tr>\n",
       "      <th>10</th>\n",
       "      <td>5.00</td>\n",
       "      <td>5.68</td>\n",
       "      <td>4.74</td>\n",
       "      <td>5.73</td>\n",
       "      <td>8.00</td>\n",
       "      <td>6.89</td>\n",
       "    </tr>\n",
       "  </tbody>\n",
       "</table>\n",
       "</div>"
      ],
      "text/plain": [
       "    x123    y1   y2    y3    x4    y4\n",
       "0  10.00  8.04 9.14  7.46  8.00  6.58\n",
       "1   8.00  6.95 8.14  6.77  8.00  5.76\n",
       "2  13.00  7.58 8.74 12.74  8.00  7.71\n",
       "3   9.00  8.81 8.77  7.11  8.00  8.84\n",
       "4  11.00  8.33 9.26  7.81  8.00  8.47\n",
       "5  14.00  9.96 8.10  8.84  8.00  7.04\n",
       "6   6.00  7.24 6.13  6.08  8.00  5.25\n",
       "7   4.00  4.26 3.10  5.39 19.00 12.50\n",
       "8  12.00 10.84 9.13  8.15  8.00  5.56\n",
       "9   7.00  4.82 7.26  6.42  8.00  7.91\n",
       "10  5.00  5.68 4.74  5.73  8.00  6.89"
      ]
     },
     "execution_count": 4,
     "metadata": {},
     "output_type": "execute_result"
    }
   ],
   "source": [
    "# Required Packages \n",
    "import numpy as np\n",
    "import pandas as pd\n",
    "import matplotlib.pyplot as plt\n",
    "import seaborn as sns\n",
    "\n",
    "# Create Data Frame (df)\n",
    "ans = pd.read_csv('./Anscombe_quartet_data.csv') \n",
    "\n",
    "#Peak\n",
    "ans"
   ]
  },
  {
   "cell_type": "code",
   "execution_count": 5,
   "metadata": {},
   "outputs": [
    {
     "data": {
      "text/html": [
       "<div>\n",
       "<style scoped>\n",
       "    .dataframe tbody tr th:only-of-type {\n",
       "        vertical-align: middle;\n",
       "    }\n",
       "\n",
       "    .dataframe tbody tr th {\n",
       "        vertical-align: top;\n",
       "    }\n",
       "\n",
       "    .dataframe thead th {\n",
       "        text-align: right;\n",
       "    }\n",
       "</style>\n",
       "<table border=\"1\" class=\"dataframe\">\n",
       "  <thead>\n",
       "    <tr style=\"text-align: right;\">\n",
       "      <th></th>\n",
       "      <th>x123</th>\n",
       "      <th>x4</th>\n",
       "      <th>y1</th>\n",
       "      <th>y2</th>\n",
       "      <th>y3</th>\n",
       "      <th>y4</th>\n",
       "    </tr>\n",
       "  </thead>\n",
       "  <tbody>\n",
       "    <tr>\n",
       "      <th>count</th>\n",
       "      <td>11.00</td>\n",
       "      <td>11.00</td>\n",
       "      <td>11.00</td>\n",
       "      <td>11.00</td>\n",
       "      <td>11.00</td>\n",
       "      <td>11.00</td>\n",
       "    </tr>\n",
       "    <tr>\n",
       "      <th>mean</th>\n",
       "      <td>9.00</td>\n",
       "      <td>9.00</td>\n",
       "      <td>7.50</td>\n",
       "      <td>7.50</td>\n",
       "      <td>7.50</td>\n",
       "      <td>7.50</td>\n",
       "    </tr>\n",
       "    <tr>\n",
       "      <th>std</th>\n",
       "      <td>3.32</td>\n",
       "      <td>3.32</td>\n",
       "      <td>2.03</td>\n",
       "      <td>2.03</td>\n",
       "      <td>2.03</td>\n",
       "      <td>2.03</td>\n",
       "    </tr>\n",
       "    <tr>\n",
       "      <th>min</th>\n",
       "      <td>4.00</td>\n",
       "      <td>8.00</td>\n",
       "      <td>4.26</td>\n",
       "      <td>3.10</td>\n",
       "      <td>5.39</td>\n",
       "      <td>5.25</td>\n",
       "    </tr>\n",
       "    <tr>\n",
       "      <th>25%</th>\n",
       "      <td>6.50</td>\n",
       "      <td>8.00</td>\n",
       "      <td>6.31</td>\n",
       "      <td>6.70</td>\n",
       "      <td>6.25</td>\n",
       "      <td>6.17</td>\n",
       "    </tr>\n",
       "    <tr>\n",
       "      <th>50%</th>\n",
       "      <td>9.00</td>\n",
       "      <td>8.00</td>\n",
       "      <td>7.58</td>\n",
       "      <td>8.14</td>\n",
       "      <td>7.11</td>\n",
       "      <td>7.04</td>\n",
       "    </tr>\n",
       "    <tr>\n",
       "      <th>75%</th>\n",
       "      <td>11.50</td>\n",
       "      <td>8.00</td>\n",
       "      <td>8.57</td>\n",
       "      <td>8.95</td>\n",
       "      <td>7.98</td>\n",
       "      <td>8.19</td>\n",
       "    </tr>\n",
       "    <tr>\n",
       "      <th>max</th>\n",
       "      <td>14.00</td>\n",
       "      <td>19.00</td>\n",
       "      <td>10.84</td>\n",
       "      <td>9.26</td>\n",
       "      <td>12.74</td>\n",
       "      <td>12.50</td>\n",
       "    </tr>\n",
       "  </tbody>\n",
       "</table>\n",
       "</div>"
      ],
      "text/plain": [
       "       x123    x4    y1    y2    y3    y4\n",
       "count 11.00 11.00 11.00 11.00 11.00 11.00\n",
       "mean   9.00  9.00  7.50  7.50  7.50  7.50\n",
       "std    3.32  3.32  2.03  2.03  2.03  2.03\n",
       "min    4.00  8.00  4.26  3.10  5.39  5.25\n",
       "25%    6.50  8.00  6.31  6.70  6.25  6.17\n",
       "50%    9.00  8.00  7.58  8.14  7.11  7.04\n",
       "75%   11.50  8.00  8.57  8.95  7.98  8.19\n",
       "max   14.00 19.00 10.84  9.26 12.74 12.50"
      ]
     },
     "execution_count": 5,
     "metadata": {},
     "output_type": "execute_result"
    }
   ],
   "source": [
    "df.describe()\n"
   ]
  },
  {
   "cell_type": "code",
   "execution_count": 105,
   "metadata": {},
   "outputs": [
    {
     "data": {
      "image/png": "[encoded data removed]",
      "text/plain": [
       "<Figure size 432x288 with 1 Axes>"
      ]
     },
     "metadata": {},
     "output_type": "display_data"
    }
   ],
   "source": [
    "from scipy import stats\n",
    "slope, intercept, r_value, p_value, std_err = stats.linregress(ans['x123'],ans['y1'])\n",
    "\n",
    "sns.set_style(\"white\")\n",
    "a=sns.regplot(x=\"x123\", y=\"y1\", data=df, \n",
    "                color=\"orange\",\n",
    "                ci=None, \n",
    "                scatter_kws={\"s\":80}, \n",
    "                line_kws={\"color\": \"blue\", 'label':\"y={0:.1f}x+{1:.1f}\".format(slope,intercept)}, fit_reg=True)\n",
    "\n",
    "a.set_title(\"X1 vs Y1\", fontsize=20)\n",
    "a.set(xlim=(3,18))\n",
    "a.legend()\n",
    "a.figure.savefig(\"x1_y1.png\")"
   ]
  },
  {
   "cell_type": "code",
   "execution_count": 106,
   "metadata": {},
   "outputs": [
    {
     "data": {
      "image/png": "[encoded data removed]",
      "text/plain": [
       "<Figure size 432x288 with 1 Axes>"
      ]
     },
     "metadata": {},
     "output_type": "display_data"
    }
   ],
   "source": [
    "slope, intercept, r_value, p_value, std_err = stats.linregress(ans['x123'],ans['y2'])\n",
    "sns.set_style(\"white\")\n",
    "a=sns.regplot(x=\"x123\", y=\"y2\", data=df, \n",
    "                color=\"orange\",\n",
    "                ci=None, \n",
    "                scatter_kws={\"s\":50}, \n",
    "               line_kws={\"color\": \"blue\", 'label':\"y={0:.1f}x+{1:.1f}\".format(slope,intercept)}\n",
    ")\n",
    "\n",
    "a.set_title(\"X2 vs Y2\", fontsize=20)\n",
    "a.set(xlim=(3,18))\n",
    "a.figure.savefig(\"x2_y2.png\")"
   ]
  },
  {
   "cell_type": "code",
   "execution_count": 108,
   "metadata": {},
   "outputs": [
    {
     "data": {
      "image/png": "[encoded data removed]",
      "text/plain": [
       "<Figure size 432x288 with 1 Axes>"
      ]
     },
     "metadata": {},
     "output_type": "display_data"
    }
   ],
   "source": [
    "slope, intercept, r_value, p_value, std_err = stats.linregress(ans['x123'],ans['y3'])\n",
    "\n",
    "sns.set_style(\"white\")\n",
    "a=sns.regplot(x=\"x123\", y=\"y3\", data=df, \n",
    "                color=\"orange\",\n",
    "                ci=None, \n",
    "                scatter_kws={\"s\":80}, \n",
    "                line_kws={\"color\": \"blue\", 'label':\"y={0:.1f}x+{1:.1f}\".format(slope,intercept)})\n",
    "\n",
    "a.set_title(\"X3 vs Y3\", fontsize=20)\n",
    "a.set(xlim=(3,18))\n",
    "a.figure.savefig(\"x3_y3.png\")"
   ]
  },
  {
   "cell_type": "code",
   "execution_count": 109,
   "metadata": {},
   "outputs": [
    {
     "data": {
      "image/png": "[encoded data removed]",
      "text/plain": [
       "<Figure size 432x288 with 1 Axes>"
      ]
     },
     "metadata": {},
     "output_type": "display_data"
    }
   ],
   "source": [
    "slope, intercept, r_value, p_value, std_err = stats.linregress(ans['x4'],ans['y4'])\n",
    "\n",
    "sns.set_style(\"white\")\n",
    "a=sns.regplot(x=\"x4\", y=\"y4\", data=df, \n",
    "                color=\"orange\",\n",
    "                ci=None, \n",
    "                scatter_kws={\"s\":80}, \n",
    "                 line_kws={\"color\": \"blue\", 'label':\"y={0:.1f}x+{1:.1f}\".format(slope,intercept)})\n",
    "a.set(xlim=(4,20))\n",
    "a.set_title(\"X4 vs Y4\", fontsize=20)\n",
    "a.figure.savefig(\"x4_y4.png\")"
   ]
  },
  {
   "cell_type": "code",
   "execution_count": null,
   "metadata": {},
   "outputs": [],
   "source": []
  }
 ],
 "metadata": {
  "kernelspec": {
   "display_name": "Python 3",
   "language": "python",
   "name": "python3"
  },
  "language_info": {
   "codemirror_mode": {
    "name": "ipython",
    "version": 3
   },
   "file_extension": ".py",
   "mimetype": "text/x-python",
   "name": "python",
   "nbconvert_exporter": "python",
   "pygments_lexer": "ipython3",
   "version": "3.7.1"
  }
 },
 "nbformat": 4,
 "nbformat_minor": 5
}
